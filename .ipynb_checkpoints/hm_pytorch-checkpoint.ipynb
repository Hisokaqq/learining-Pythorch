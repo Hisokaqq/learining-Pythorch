{
 "cells": [
  {
   "cell_type": "code",
   "execution_count": 2,
   "id": "b958691f",
   "metadata": {},
   "outputs": [],
   "source": [
    "import torch\n",
    "import numpy as np\n",
    "import pandas as pd\n",
    "import matplotlib.pyplot as plt\n",
    "from torch import nn"
   ]
  },
  {
   "cell_type": "code",
   "execution_count": 3,
   "id": "09b1a86a",
   "metadata": {},
   "outputs": [],
   "source": [
    "weight = .3\n",
    "bias = .9\n",
    "\n",
    "start = 0\n",
    "end = 1\n",
    "step = .02\n",
    "\n",
    "x = torch.arange(start, end, step).unsqueeze(dim=1)\n",
    "y = x*weight + bias"
   ]
  },
  {
   "cell_type": "code",
   "execution_count": 4,
   "id": "4da06d70",
   "metadata": {},
   "outputs": [],
   "source": [
    "train_split = int(.8*len(x))\n",
    "train_x, train_y = x[:train_split], y[:train_split] \n",
    "train_x, train_y = x[:train_split], y[:train_split] "
   ]
  },
  {
   "cell_type": "code",
   "execution_count": null,
   "id": "b010d450",
   "metadata": {},
   "outputs": [],
   "source": []
  }
 ],
 "metadata": {
  "kernelspec": {
   "display_name": "Python 3 (ipykernel)",
   "language": "python",
   "name": "python3"
  },
  "language_info": {
   "codemirror_mode": {
    "name": "ipython",
    "version": 3
   },
   "file_extension": ".py",
   "mimetype": "text/x-python",
   "name": "python",
   "nbconvert_exporter": "python",
   "pygments_lexer": "ipython3",
   "version": "3.9.1"
  }
 },
 "nbformat": 4,
 "nbformat_minor": 5
}
