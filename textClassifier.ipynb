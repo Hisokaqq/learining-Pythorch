{
 "cells": [
  {
   "cell_type": "code",
   "execution_count": 1,
   "id": "3f55b38a",
   "metadata": {},
   "outputs": [
    {
     "name": "stderr",
     "output_type": "stream",
     "text": [
      "/Library/Frameworks/Python.framework/Versions/3.9/lib/python3.9/site-packages/tqdm/auto.py:22: TqdmWarning: IProgress not found. Please update jupyter and ipywidgets. See https://ipywidgets.readthedocs.io/en/stable/user_install.html\n",
      "  from .autonotebook import tqdm as notebook_tqdm\n"
     ]
    }
   ],
   "source": [
    "import numpy as np\n",
    "import pandas as pd\n",
    "import torch\n",
    "import torch.nn as nn\n",
    "import shutil\n",
    "import sys\n"
   ]
  },
  {
   "cell_type": "code",
   "execution_count": 2,
   "id": "33fd73f0",
   "metadata": {},
   "outputs": [],
   "source": [
    "import csv\n",
    "\n",
    "with open(\"./ee.csv\", 'r') as file:\n",
    "    train_df = pd.read_csv(file)\n"
   ]
  },
  {
   "cell_type": "code",
   "execution_count": 3,
   "id": "b4828076",
   "metadata": {},
   "outputs": [],
   "source": [
    "train_df[\"CONTEXT\"] = train_df[\"TITLE\"] + \". \" + train_df[\"ABSTRACT\"]"
   ]
  },
  {
   "cell_type": "code",
   "execution_count": 4,
   "id": "1e234f4c",
   "metadata": {},
   "outputs": [],
   "source": [
    "try:\n",
    "    train_df.drop(labels=['ID', 'TITLE', 'ABSTRACT'], axis = 1, inplace=True)\n",
    "except:\n",
    "    print(\"already been deleted\")"
   ]
  },
  {
   "cell_type": "code",
   "execution_count": 5,
   "id": "747bd12a",
   "metadata": {},
   "outputs": [],
   "source": [
    "train_df = train_df[[\"CONTEXT\", 'Computer Science', 'Physics', 'Mathematics', 'Statistics',\n",
    "       'Quantitative Biology', 'Quantitative Finance']]"
   ]
  },
  {
   "cell_type": "code",
   "execution_count": 6,
   "id": "0a53ff51",
   "metadata": {},
   "outputs": [],
   "source": [
    "target_list = ['Computer Science', 'Physics', 'Mathematics', 'Statistics',\n",
    "       'Quantitative Biology', 'Quantitative Finance']"
   ]
  },
  {
   "cell_type": "code",
   "execution_count": 7,
   "id": "daa8b043",
   "metadata": {},
   "outputs": [],
   "source": [
    "MAX_LEN = 256\n",
    "TRAIN_BATCH_SIZE = 32\n",
    "VALID_BATCH_SIZE = 32\n",
    "EPOCHS = 2\n",
    "LEARING_RATE = 1e-05"
   ]
  },
  {
   "cell_type": "code",
   "execution_count": 8,
   "id": "fde586f9",
   "metadata": {},
   "outputs": [],
   "source": [
    "from transformers import BertTokenizer, BertModel"
   ]
  },
  {
   "cell_type": "code",
   "execution_count": 9,
   "id": "3072a69d",
   "metadata": {},
   "outputs": [],
   "source": [
    "tokenizer = BertTokenizer.from_pretrained(\"bert-base-uncased\")"
   ]
  },
  {
   "cell_type": "code",
   "execution_count": 10,
   "id": "7f7b08e4",
   "metadata": {},
   "outputs": [],
   "source": [
    "example_text = \"do like and subscribe my channel\"\n",
    "encoding = tokenizer.encode_plus(\n",
    "    example_text,\n",
    "    add_special_tokens=True,\n",
    "    max_length=MAX_LEN,\n",
    "    padding=\"max_length\",\n",
    "    truncation=True,\n",
    "    return_attention_mask=True,\n",
    "    return_tensors=\"pt\"\n",
    ")"
   ]
  },
  {
   "cell_type": "code",
   "execution_count": 11,
   "id": "9ab2ab19",
   "metadata": {},
   "outputs": [],
   "source": [
    "class CustomDataset(torch.utils.data.Dataset):\n",
    "    def __init__(self, df, tokenizer, max_len):\n",
    "        self.df = df\n",
    "        self.tokenizer = tokenizer\n",
    "        self.max_len = max_len\n",
    "        self.title = self.df[\"CONTEXT\"]\n",
    "        self.targets = self.df[target_list].values\n",
    "    \n",
    "    def __len__(self):\n",
    "        return len(self.title)\n",
    "    \n",
    "    def __getitem__(self, index):\n",
    "        title = str(self.title[index])\n",
    "        title = \" \".join(title.split())\n",
    "    \n",
    "        inputs = self.tokenizer.encode_plus(\n",
    "            title,\n",
    "            None,\n",
    "            add_special_tokens=True,\n",
    "            max_length=self.max_len,\n",
    "            padding=\"max_length\",\n",
    "            return_token_type_ids=True,\n",
    "            truncation=True,\n",
    "            return_attention_mask=True,\n",
    "            return_tensors=\"pt\"\n",
    "        )\n",
    "        \n",
    "        return{\n",
    "            \"input_ids\": inputs[\"input_ids\"].flatten(),\n",
    "            \"return_attention_mask\": inputs[\"return_attention_mask\"].flatten(),\n",
    "            \"return_token_type_ids\": inputs[\"return_token_type_ids\"].flatten(),\n",
    "            \"targets\": torch.FloatTensor(self.targets[index])\n",
    "        }\n",
    "        "
   ]
  },
  {
   "cell_type": "code",
   "execution_count": 12,
   "id": "3da0e95c",
   "metadata": {},
   "outputs": [],
   "source": [
    "train_size = .8\n",
    "train_df = train_df.sample(frac=train_size, random_state=200).reset_index(drop=True)\n",
    "val_df = train_df.drop(train_df.index).reset_index(drop=True)"
   ]
  },
  {
   "cell_type": "code",
   "execution_count": 14,
   "id": "3f16a013",
   "metadata": {},
   "outputs": [],
   "source": [
    "train_dataset = CustomDataset(train_df, tokenizer, MAX_LEN)\n",
    "val_dataset = CustomDataset(val_df, tokenizer, MAX_LEN)"
   ]
  },
  {
   "cell_type": "code",
   "execution_count": null,
   "id": "420d8d64",
   "metadata": {},
   "outputs": [],
   "source": [
    "train_data_loader = torch.utils.data.DataLoader(\n",
    "    \n",
    ")"
   ]
  }
 ],
 "metadata": {
  "kernelspec": {
   "display_name": "Python 3 (ipykernel)",
   "language": "python",
   "name": "python3"
  },
  "language_info": {
   "codemirror_mode": {
    "name": "ipython",
    "version": 3
   },
   "file_extension": ".py",
   "mimetype": "text/x-python",
   "name": "python",
   "nbconvert_exporter": "python",
   "pygments_lexer": "ipython3",
   "version": "3.9.1"
  }
 },
 "nbformat": 4,
 "nbformat_minor": 5
}
